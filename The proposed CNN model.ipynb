{
  "nbformat": 4,
  "nbformat_minor": 0,
  "metadata": {
    "colab": {
      "name": "Machine Learning [HW4-2].ipynb",
      "provenance": [],
      "collapsed_sections": []
    },
    "kernelspec": {
      "name": "python3",
      "display_name": "Python 3"
    },
    "language_info": {
      "name": "python"
    }
  },
  "cells": [
    {
      "cell_type": "markdown",
      "source": [
        "**HW4**"
      ],
      "metadata": {
        "id": "hOsfzC6WaUcm"
      }
    },
    {
      "cell_type": "code",
      "source": [
        "from keras.datasets import cifar10\n",
        "from keras.models import Sequential\n",
        "from keras.layers import Dense, Dropout, Conv2D, MaxPool2D, Flatten\n",
        "from keras.utils import np_utils\n",
        "from sklearn import metrics\n",
        "import numpy as np\n",
        "import pandas as pd\n",
        "from matplotlib import pyplot as plt\n",
        "import seaborn as sns"
      ],
      "metadata": {
        "id": "HLKV6nCPaYX4"
      },
      "execution_count": 1,
      "outputs": []
    },
    {
      "cell_type": "code",
      "source": [
        "# A) Importing (Loading) the Dataset:\n",
        "(X_train, y_train), (X_test, y_test) = cifar10.load_data()"
      ],
      "metadata": {
        "colab": {
          "base_uri": "https://localhost:8080/"
        },
        "id": "6W_tEXuqbtmj",
        "outputId": "f6858875-4f9f-488b-b71e-d7f09fdc1ffc"
      },
      "execution_count": 2,
      "outputs": [
        {
          "output_type": "stream",
          "name": "stdout",
          "text": [
            "Downloading data from https://www.cs.toronto.edu/~kriz/cifar-10-python.tar.gz\n",
            "170500096/170498071 [==============================] - 2s 0us/step\n",
            "170508288/170498071 [==============================] - 2s 0us/step\n"
          ]
        }
      ]
    },
    {
      "cell_type": "code",
      "source": [
        "# B) Preprocessing the data:\n",
        "X_train = X_train.astype('float32')\n",
        "X_test = X_test.astype('float32')\n",
        "\n",
        "X_train /= 255\n",
        "X_test /= 255\n",
        "\n",
        "nb_classes=10\n",
        "Y_train = np_utils.to_categorical(y_train, nb_classes)\n",
        "Y_test = np_utils.to_categorical(y_test, nb_classes)\n",
        "\n",
        "\n"
      ],
      "metadata": {
        "id": "VwK_3qq4b_wg"
      },
      "execution_count": 3,
      "outputs": []
    },
    {
      "cell_type": "code",
      "source": [
        "# C) Building The Model:\n",
        "\n",
        "# ----- Set up the layers ------\n",
        "\n",
        "model = Sequential()\n",
        "model.add(Conv2D(32, kernel_size=(3,3), strides=(1,1), padding='same', activation='relu', input_shape=(32, 32, 3)))\n",
        "model.add(Conv2D(32, kernel_size=(3,3), strides=(1,1), padding='same', activation='relu'))\n",
        "model.add(MaxPool2D(pool_size=(2,2)))\n",
        "model.add(Dropout(0.2))\n",
        "\n",
        "model.add(Conv2D(64, kernel_size=(3,3), strides=(1,1), padding='same', activation='relu'))\n",
        "model.add(Conv2D(64, kernel_size=(3,3), strides=(1,1), padding='same', activation='relu'))\n",
        "model.add(MaxPool2D(pool_size=(2,2)))\n",
        "model.add(Dropout(0.2))\n",
        "\n",
        "model.add(Conv2D(128, kernel_size=(3,3), strides=(1,1), padding='same', activation='relu'))\n",
        "model.add(Conv2D(128, kernel_size=(3,3), strides=(1,1), padding='same', activation='relu'))\n",
        "model.add(MaxPool2D(pool_size=(2,2)))\n",
        "model.add(Dropout(0.2))\n",
        "\n",
        "model.add(Flatten())\n",
        "model.add(Dense(128, activation='relu'))\n",
        "model.add(Dropout(0.2))\n",
        "model.add(Dense(10, activation='softmax'))\n",
        "\n",
        "\n",
        "# ------ Compile the model ------\n",
        "model.compile(optimizer='adam',\n",
        "              loss='categorical_crossentropy',\n",
        "              metrics=['accuracy'])\n",
        "\n",
        "\n",
        "\n",
        "\n"
      ],
      "metadata": {
        "id": "oP7x0LorcWiK"
      },
      "execution_count": 4,
      "outputs": []
    },
    {
      "cell_type": "code",
      "source": [
        "model.summary()"
      ],
      "metadata": {
        "colab": {
          "base_uri": "https://localhost:8080/"
        },
        "id": "PLcu7TWQViu6",
        "outputId": "e21d80a6-4b39-4d80-c2ea-2f416bdd4eba"
      },
      "execution_count": 5,
      "outputs": [
        {
          "output_type": "stream",
          "name": "stdout",
          "text": [
            "Model: \"sequential\"\n",
            "_________________________________________________________________\n",
            " Layer (type)                Output Shape              Param #   \n",
            "=================================================================\n",
            " conv2d (Conv2D)             (None, 32, 32, 32)        896       \n",
            "                                                                 \n",
            " conv2d_1 (Conv2D)           (None, 32, 32, 32)        9248      \n",
            "                                                                 \n",
            " max_pooling2d (MaxPooling2D  (None, 16, 16, 32)       0         \n",
            " )                                                               \n",
            "                                                                 \n",
            " dropout (Dropout)           (None, 16, 16, 32)        0         \n",
            "                                                                 \n",
            " conv2d_2 (Conv2D)           (None, 16, 16, 64)        18496     \n",
            "                                                                 \n",
            " conv2d_3 (Conv2D)           (None, 16, 16, 64)        36928     \n",
            "                                                                 \n",
            " max_pooling2d_1 (MaxPooling  (None, 8, 8, 64)         0         \n",
            " 2D)                                                             \n",
            "                                                                 \n",
            " dropout_1 (Dropout)         (None, 8, 8, 64)          0         \n",
            "                                                                 \n",
            " conv2d_4 (Conv2D)           (None, 8, 8, 128)         73856     \n",
            "                                                                 \n",
            " conv2d_5 (Conv2D)           (None, 8, 8, 128)         147584    \n",
            "                                                                 \n",
            " max_pooling2d_2 (MaxPooling  (None, 4, 4, 128)        0         \n",
            " 2D)                                                             \n",
            "                                                                 \n",
            " dropout_2 (Dropout)         (None, 4, 4, 128)         0         \n",
            "                                                                 \n",
            " flatten (Flatten)           (None, 2048)              0         \n",
            "                                                                 \n",
            " dense (Dense)               (None, 128)               262272    \n",
            "                                                                 \n",
            " dropout_3 (Dropout)         (None, 128)               0         \n",
            "                                                                 \n",
            " dense_1 (Dense)             (None, 10)                1290      \n",
            "                                                                 \n",
            "=================================================================\n",
            "Total params: 550,570\n",
            "Trainable params: 550,570\n",
            "Non-trainable params: 0\n",
            "_________________________________________________________________\n"
          ]
        }
      ]
    },
    {
      "cell_type": "code",
      "source": [
        "# D) Training the model\n",
        "\n",
        "history = model.fit(X_train, Y_train, validation_split=0.2, batch_size=256, epochs=10)"
      ],
      "metadata": {
        "colab": {
          "base_uri": "https://localhost:8080/"
        },
        "id": "cT2l1hPHdBWP",
        "outputId": "1e4cb2ce-49f3-4187-92d1-b20a9b2e45b8"
      },
      "execution_count": 6,
      "outputs": [
        {
          "output_type": "stream",
          "name": "stdout",
          "text": [
            "Epoch 1/10\n",
            "157/157 [==============================] - 299s 2s/step - loss: 1.8917 - accuracy: 0.2930 - val_loss: 1.7807 - val_accuracy: 0.3652\n",
            "Epoch 2/10\n",
            "157/157 [==============================] - 288s 2s/step - loss: 1.4621 - accuracy: 0.4634 - val_loss: 1.2351 - val_accuracy: 0.5526\n",
            "Epoch 3/10\n",
            "157/157 [==============================] - 288s 2s/step - loss: 1.2010 - accuracy: 0.5706 - val_loss: 1.0695 - val_accuracy: 0.6213\n",
            "Epoch 4/10\n",
            "157/157 [==============================] - 290s 2s/step - loss: 1.0529 - accuracy: 0.6293 - val_loss: 0.9908 - val_accuracy: 0.6479\n",
            "Epoch 5/10\n",
            "157/157 [==============================] - 287s 2s/step - loss: 0.9411 - accuracy: 0.6670 - val_loss: 0.8478 - val_accuracy: 0.7035\n",
            "Epoch 6/10\n",
            "157/157 [==============================] - 287s 2s/step - loss: 0.8591 - accuracy: 0.6985 - val_loss: 0.8428 - val_accuracy: 0.6991\n",
            "Epoch 7/10\n",
            "157/157 [==============================] - 286s 2s/step - loss: 0.8038 - accuracy: 0.7161 - val_loss: 0.7787 - val_accuracy: 0.7263\n",
            "Epoch 8/10\n",
            "157/157 [==============================] - 287s 2s/step - loss: 0.7308 - accuracy: 0.7435 - val_loss: 0.7149 - val_accuracy: 0.7539\n",
            "Epoch 9/10\n",
            "157/157 [==============================] - 286s 2s/step - loss: 0.6825 - accuracy: 0.7619 - val_loss: 0.6712 - val_accuracy: 0.7671\n",
            "Epoch 10/10\n",
            "157/157 [==============================] - 282s 2s/step - loss: 0.6483 - accuracy: 0.7699 - val_loss: 0.6876 - val_accuracy: 0.7623\n"
          ]
        }
      ]
    },
    {
      "cell_type": "code",
      "source": [
        "# E) Making prediction on test set.\n",
        "\n",
        "y_pred = model.predict(X_test)\n",
        "y_true = np.argmax(Y_test, axis=1)\n",
        "y_predicted = np.argmax(y_pred, axis=1)"
      ],
      "metadata": {
        "id": "hOKCORcpdGQm"
      },
      "execution_count": 7,
      "outputs": []
    },
    {
      "cell_type": "code",
      "source": [
        "# F) Evaluating model performance on test set:\n",
        "\n",
        "\n",
        "# -------- Plotting confusion matrix for each class -------------\n",
        "\n",
        "CN = metrics.confusion_matrix(y_true, y_predicted)\n",
        "\n",
        "indices = ['Airplanes', 'Cars', 'Birds', 'Cats', 'Deer', 'Dogs', 'Frogs', 'Horses', 'Ships', 'Trucks'] \n",
        "c = ['Airplanes', 'Cars', 'Birds', 'Cats', 'Deer', 'Dogs', 'Frogs', 'Horses', 'Ships', 'Trucks']\n",
        "\n",
        "CN_dataframe = pd.DataFrame(CN, indices, c)\n",
        "\n",
        "sns.heatmap(CN_dataframe, annot=True, fmt='d', cmap='Blues')\n",
        "plt.title(' The Confusion Matrix')\n",
        "plt.ylabel('Real Values')\n",
        "plt.xlabel('Predicted Values')\n",
        "plt.show()\n",
        "\n",
        "# -------- The precision --------\n",
        "precision= metrics.precision_score(y_true, y_predicted, average='weighted')\n",
        "\n",
        "# -------- The Recall --------\n",
        "recall = metrics.recall_score(y_true, y_predicted, average='weighted')\n",
        "\n",
        "# -------- The Accuracy  --------\n",
        "accuracy = metrics.accuracy_score(y_true, y_predicted)\n",
        "\n",
        "print(\"The precision: \", precision*100)\n",
        "print(\"The Recall: \", recall*100)\n",
        "print(\"The accuracy: \", accuracy*100)\n",
        "\n",
        "#precision, recall and f1-score for each class\n",
        "print('\\nClassification Report\\n')\n",
        "print(metrics.classification_report(y_true, y_predicted, target_names=['Airplanes', 'Cars', 'Birds', 'Cats', 'Deer', 'Dogs', 'Frogs', 'Horses', 'Ships', 'Trucks']))"
      ],
      "metadata": {
        "colab": {
          "base_uri": "https://localhost:8080/",
          "height": 751
        },
        "id": "L6WymCSWecRF",
        "outputId": "d0ee1c83-a7b5-4527-9682-a31eb65385e8"
      },
      "execution_count": 8,
      "outputs": [
        {
          "output_type": "display_data",
          "data": {
            "text/plain": [
              "<Figure size 432x288 with 2 Axes>"
            ],
            "image/png": "[encoded data removed]"
          },
          "metadata": {
            "needs_background": "light"
          }
        },
        {
          "output_type": "stream",
          "name": "stdout",
          "text": [
            "The precision:  76.2735814763573\n",
            "The Recall:  75.32\n",
            "The accuracy:  75.32\n",
            "\n",
            "Classification Report\n",
            "\n",
            "              precision    recall  f1-score   support\n",
            "\n",
            "   Airplanes       0.80      0.80      0.80      1000\n",
            "        Cars       0.90      0.88      0.89      1000\n",
            "       Birds       0.79      0.48      0.60      1000\n",
            "        Cats       0.54      0.65      0.59      1000\n",
            "        Deer       0.74      0.65      0.69      1000\n",
            "        Dogs       0.61      0.71      0.66      1000\n",
            "       Frogs       0.71      0.87      0.78      1000\n",
            "      Horses       0.81      0.78      0.79      1000\n",
            "       Ships       0.89      0.85      0.87      1000\n",
            "      Trucks       0.83      0.87      0.85      1000\n",
            "\n",
            "    accuracy                           0.75     10000\n",
            "   macro avg       0.76      0.75      0.75     10000\n",
            "weighted avg       0.76      0.75      0.75     10000\n",
            "\n"
          ]
        }
      ]
    }
  ]
}